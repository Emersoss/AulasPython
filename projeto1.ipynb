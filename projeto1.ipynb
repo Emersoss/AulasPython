{
 "cells": [
  {
   "attachments": {},
   "cell_type": "markdown",
   "metadata": {},
   "source": [
    "# Primeira entrega projeto final"
   ]
  },
  {
   "cell_type": "code",
   "execution_count": 40,
   "metadata": {},
   "outputs": [],
   "source": [
    "import requests\n",
    "import pandas as pd"
   ]
  },
  {
   "cell_type": "code",
   "execution_count": 41,
   "metadata": {},
   "outputs": [],
   "source": [
    "# Função de alerta\n",
    "def alerta(mensagem):\n",
    "    print(f\"ALERTA: {mensagem}\")"
   ]
  },
  {
   "cell_type": "code",
   "execution_count": 42,
   "metadata": {},
   "outputs": [],
   "source": [
    "# Função para extrair dados da API com tratamento de erros\n",
    "def extrair_dados_api(url):\n",
    "    response = requests.get(url)\n",
    "    if response.status_code == 200:\n",
    "        return response.json()\n",
    "    else:\n",
    "        alerta(f\"Erro ao acessar a URL: {url}\")\n",
    "        return None"
   ]
  },
  {
   "cell_type": "code",
   "execution_count": 43,
   "metadata": {},
   "outputs": [],
   "source": [
    "# Extração de dados dos endpoints\n",
    "url_pokemon = 'https://pokeapi.co/api/v2/pokemon'\n",
    "url_ability = 'https://pokeapi.co/api/v2/ability'\n",
    "url_type = 'https://pokeapi.co/api/v2/type'"
   ]
  },
  {
   "cell_type": "code",
   "execution_count": 44,
   "metadata": {},
   "outputs": [],
   "source": [
    "# Função para extrair lista de pokémons\n",
    "def extrair_pokemons():\n",
    "    data = extrair_dados_api(url_pokemon + '?limit=10')  # Limite para 10 pokémons para exemplo\n",
    "    if data:\n",
    "        return pd.DataFrame(data['results'])\n",
    "    return pd.DataFrame()"
   ]
  },
  {
   "cell_type": "code",
   "execution_count": 45,
   "metadata": {},
   "outputs": [],
   "source": [
    "# Função para extrair lista de habilidades\n",
    "def extrair_abilities():\n",
    "    data = extrair_dados_api(url_ability + '?limit=10')  # Limite para 10 habilidades para exemplo\n",
    "    if data:\n",
    "        return pd.DataFrame(data['results'])\n",
    "    return pd.DataFrame()"
   ]
  },
  {
   "cell_type": "code",
   "execution_count": 46,
   "metadata": {},
   "outputs": [],
   "source": [
    "# Função para extrair lista de tipos\n",
    "def extrair_types():\n",
    "    data = extrair_dados_api(url_type)\n",
    "    if data:\n",
    "        return pd.DataFrame(data['results'])\n",
    "    return pd.DataFrame()"
   ]
  },
  {
   "cell_type": "code",
   "execution_count": 47,
   "metadata": {},
   "outputs": [],
   "source": [
    "# Extraindo os dados e criando as tabelas\n",
    "tabela_pokemons = extrair_pokemons()\n",
    "tabela_abilities = extrair_abilities()\n",
    "tabela_types = extrair_types()"
   ]
  },
  {
   "cell_type": "code",
   "execution_count": 48,
   "metadata": {},
   "outputs": [
    {
     "name": "stdout",
     "output_type": "stream",
     "text": [
      "Tabela de Pokémons:\n",
      "         name                                    url\n",
      "0   bulbasaur   https://pokeapi.co/api/v2/pokemon/1/\n",
      "1     ivysaur   https://pokeapi.co/api/v2/pokemon/2/\n",
      "2    venusaur   https://pokeapi.co/api/v2/pokemon/3/\n",
      "3  charmander   https://pokeapi.co/api/v2/pokemon/4/\n",
      "4  charmeleon   https://pokeapi.co/api/v2/pokemon/5/\n",
      "5   charizard   https://pokeapi.co/api/v2/pokemon/6/\n",
      "6    squirtle   https://pokeapi.co/api/v2/pokemon/7/\n",
      "7   wartortle   https://pokeapi.co/api/v2/pokemon/8/\n",
      "8   blastoise   https://pokeapi.co/api/v2/pokemon/9/\n",
      "9    caterpie  https://pokeapi.co/api/v2/pokemon/10/\n",
      "\n",
      "Tabela de Habilidades:\n",
      "           name                                    url\n",
      "0        stench   https://pokeapi.co/api/v2/ability/1/\n",
      "1       drizzle   https://pokeapi.co/api/v2/ability/2/\n",
      "2   speed-boost   https://pokeapi.co/api/v2/ability/3/\n",
      "3  battle-armor   https://pokeapi.co/api/v2/ability/4/\n",
      "4        sturdy   https://pokeapi.co/api/v2/ability/5/\n",
      "5          damp   https://pokeapi.co/api/v2/ability/6/\n",
      "6        limber   https://pokeapi.co/api/v2/ability/7/\n",
      "7     sand-veil   https://pokeapi.co/api/v2/ability/8/\n",
      "8        static   https://pokeapi.co/api/v2/ability/9/\n",
      "9   volt-absorb  https://pokeapi.co/api/v2/ability/10/\n",
      "\n",
      "Tabela de Tipos:\n",
      "        name                                    url\n",
      "0     normal      https://pokeapi.co/api/v2/type/1/\n",
      "1   fighting      https://pokeapi.co/api/v2/type/2/\n",
      "2     flying      https://pokeapi.co/api/v2/type/3/\n",
      "3     poison      https://pokeapi.co/api/v2/type/4/\n",
      "4     ground      https://pokeapi.co/api/v2/type/5/\n",
      "5       rock      https://pokeapi.co/api/v2/type/6/\n",
      "6        bug      https://pokeapi.co/api/v2/type/7/\n",
      "7      ghost      https://pokeapi.co/api/v2/type/8/\n",
      "8      steel      https://pokeapi.co/api/v2/type/9/\n",
      "9       fire     https://pokeapi.co/api/v2/type/10/\n",
      "10     water     https://pokeapi.co/api/v2/type/11/\n",
      "11     grass     https://pokeapi.co/api/v2/type/12/\n",
      "12  electric     https://pokeapi.co/api/v2/type/13/\n",
      "13   psychic     https://pokeapi.co/api/v2/type/14/\n",
      "14       ice     https://pokeapi.co/api/v2/type/15/\n",
      "15    dragon     https://pokeapi.co/api/v2/type/16/\n",
      "16      dark     https://pokeapi.co/api/v2/type/17/\n",
      "17     fairy     https://pokeapi.co/api/v2/type/18/\n",
      "18   unknown  https://pokeapi.co/api/v2/type/10001/\n",
      "19    shadow  https://pokeapi.co/api/v2/type/10002/\n"
     ]
    }
   ],
   "source": [
    "# Exibindo as tabelas\n",
    "print(\"Tabela de Pokémons:\")\n",
    "print(tabela_pokemons)\n",
    "print(\"\\nTabela de Habilidades:\")\n",
    "print(tabela_abilities)\n",
    "print(\"\\nTabela de Tipos:\")\n",
    "print(tabela_types)"
   ]
  }
 ],
 "metadata": {
  "kernelspec": {
   "display_name": "Python 3",
   "language": "python",
   "name": "python3"
  },
  "language_info": {
   "codemirror_mode": {
    "name": "ipython",
    "version": 3
   },
   "file_extension": ".py",
   "mimetype": "text/x-python",
   "name": "python",
   "nbconvert_exporter": "python",
   "pygments_lexer": "ipython3",
   "version": "3.12.3"
  },
  "orig_nbformat": 4
 },
 "nbformat": 4,
 "nbformat_minor": 2
}
